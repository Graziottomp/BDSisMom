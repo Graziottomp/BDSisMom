{
 "cells": [
  {
   "cell_type": "markdown",
   "metadata": {
    "id": "qvUDhRp1DAOG"
   },
   "source": [
    "Rotina para transformar imagens .nc em .tiff\n",
    "\n",
    "Desenvolvida por Maria Paula Graziotto\n",
    "para o projeto \"Poluição por óleo no mar 2019 no Nordeste do Brasil: Sensoriamento Remoto, Modelagem Oceano-Atmosfera e Inteligência Artificial para a Detecção, Previsão e Desenvolvimentos Futuros.\" do INPE com bolsa CNPq\n"
   ]
  },
  {
   "cell_type": "code",
   "execution_count": 1,
   "metadata": {
    "id": "E3YJVCkGDkO_"
   },
   "outputs": [
    {
     "name": "stdout",
     "output_type": "stream",
     "text": [
      "Requirement already satisfied: rioxarray in /opt/anaconda3/lib/python3.9/site-packages (0.13.3)\n",
      "Requirement already satisfied: xarray>=0.17 in /opt/anaconda3/lib/python3.9/site-packages (from rioxarray) (0.20.1)\n",
      "Requirement already satisfied: packaging in /opt/anaconda3/lib/python3.9/site-packages (from rioxarray) (21.3)\n",
      "Requirement already satisfied: pyproj>=2.2 in /opt/anaconda3/lib/python3.9/site-packages (from rioxarray) (3.4.1)\n",
      "Requirement already satisfied: rasterio>=1.1.1 in /opt/anaconda3/lib/python3.9/site-packages (from rioxarray) (1.3.4)\n",
      "Requirement already satisfied: certifi in /opt/anaconda3/lib/python3.9/site-packages (from pyproj>=2.2->rioxarray) (2021.10.8)\n",
      "Requirement already satisfied: click-plugins in /opt/anaconda3/lib/python3.9/site-packages (from rasterio>=1.1.1->rioxarray) (1.1.1)\n",
      "Requirement already satisfied: setuptools in /opt/anaconda3/lib/python3.9/site-packages (from rasterio>=1.1.1->rioxarray) (61.2.0)\n",
      "Requirement already satisfied: click>=4.0 in /opt/anaconda3/lib/python3.9/site-packages (from rasterio>=1.1.1->rioxarray) (8.0.4)\n",
      "Requirement already satisfied: attrs in /opt/anaconda3/lib/python3.9/site-packages (from rasterio>=1.1.1->rioxarray) (21.4.0)\n",
      "Requirement already satisfied: numpy>=1.18 in /opt/anaconda3/lib/python3.9/site-packages (from rasterio>=1.1.1->rioxarray) (1.21.5)\n",
      "Requirement already satisfied: snuggs>=1.4.1 in /opt/anaconda3/lib/python3.9/site-packages (from rasterio>=1.1.1->rioxarray) (1.4.7)\n",
      "Requirement already satisfied: cligj>=0.5 in /opt/anaconda3/lib/python3.9/site-packages (from rasterio>=1.1.1->rioxarray) (0.7.2)\n",
      "Requirement already satisfied: affine in /opt/anaconda3/lib/python3.9/site-packages (from rasterio>=1.1.1->rioxarray) (2.4.0)\n",
      "Requirement already satisfied: pyparsing>=2.1.6 in /opt/anaconda3/lib/python3.9/site-packages (from snuggs>=1.4.1->rasterio>=1.1.1->rioxarray) (3.0.4)\n",
      "Requirement already satisfied: pandas>=1.1 in /opt/anaconda3/lib/python3.9/site-packages (from xarray>=0.17->rioxarray) (1.4.2)\n",
      "Requirement already satisfied: python-dateutil>=2.8.1 in /opt/anaconda3/lib/python3.9/site-packages (from pandas>=1.1->xarray>=0.17->rioxarray) (2.8.2)\n",
      "Requirement already satisfied: pytz>=2020.1 in /opt/anaconda3/lib/python3.9/site-packages (from pandas>=1.1->xarray>=0.17->rioxarray) (2021.3)\n",
      "Requirement already satisfied: six>=1.5 in /opt/anaconda3/lib/python3.9/site-packages (from python-dateutil>=2.8.1->pandas>=1.1->xarray>=0.17->rioxarray) (1.16.0)\n",
      "Requirement already satisfied: packaging in /opt/anaconda3/lib/python3.9/site-packages (21.3)\n",
      "Requirement already satisfied: pyparsing!=3.0.5,>=2.0.2 in /opt/anaconda3/lib/python3.9/site-packages (from packaging) (3.0.4)\n"
     ]
    }
   ],
   "source": [
    "#instalando a biblioteca rio\n",
    "!pip install rioxarray \n",
    "!pip install packaging"
   ]
  },
  {
   "cell_type": "code",
   "execution_count": 3,
   "metadata": {
    "id": "z4PizWY7C3tK"
   },
   "outputs": [],
   "source": [
    "#importando as bibliotecas\n",
    "\n",
    "import xarray as xr \n",
    "import rioxarray as rio \n",
    "import rasterio as rs\n",
    "from glob import glob\n",
    "import numpy as np\n",
    "import pandas as pd\n",
    "import packaging "
   ]
  },
  {
   "cell_type": "code",
   "execution_count": 4,
   "metadata": {
    "id": "McL6rHX1D75-"
   },
   "outputs": [
    {
     "name": "stdout",
     "output_type": "stream",
     "text": [
      "/home/maria.graziotto/SAR-Images/Sentinel/RafaelV/bd_cptec\n"
     ]
    }
   ],
   "source": [
    "#setando o diretório das imagens e identificando os arquivos\n",
    "%cd \"/home/maria.graziotto/SAR-Images/Sentinel/RafaelV/bd_cptec\"\n",
    "nome_arquivos= sorted(glob('*.nc'))\n"
   ]
  },
  {
   "cell_type": "code",
   "execution_count": 34,
   "metadata": {
    "id": "awDAOJchEojh"
   },
   "outputs": [
    {
     "name": "stdout",
     "output_type": "stream",
     "text": [
      "Erro arquivo S1A_IW_GRDH_1SDV_20150419T155633_20150419T155658_005555_0071AF_7CF1_Orb_NR_Cal_EC.nc\n",
      "Done sig_S1A_IW_GRDH_1SDV_20150419T155633_20150419T155658_005555_0071AF_7CF1_Orb_NR_Cal_EC.nc\n",
      "Erro arquivo S1A_IW_GRDH_1SDV_20160806T154830_20160806T154855_012482_013835_1D83_Orb_NR_Cal_EC.nc\n",
      "Done sig_S1A_IW_GRDH_1SDV_20160806T154830_20160806T154855_012482_013835_1D83_Orb_NR_Cal_EC.nc\n",
      "Erro arquivo S1A_IW_GRDH_1SDV_20170129T003132_20170129T003157_015039_01892E_6D04_Orb_NR_Cal_EC.nc\n",
      "Done sig_S1A_IW_GRDH_1SDV_20170129T003132_20170129T003157_015039_01892E_6D04_Orb_NR_Cal_EC.nc\n",
      "Erro arquivo S1A_IW_GRDH_1SDV_20170720T154829_20170720T154854_017557_01D5D3_87A7_Orb_NR_Cal_EC.nc\n",
      "Done sig_S1A_IW_GRDH_1SDV_20170720T154829_20170720T154854_017557_01D5D3_87A7_Orb_NR_Cal_EC.nc\n",
      "Erro arquivo S1A_IW_GRDH_1SDV_20170810T024714_20170810T024738_017855_01DEF7_F48C_Orb_NR_Cal_EC.nc\n",
      "Done sig_S1A_IW_GRDH_1SDV_20170810T024714_20170810T024738_017855_01DEF7_F48C_Orb_NR_Cal_EC.nc\n",
      "Erro arquivo S1A_IW_GRDH_1SDV_20171010T142441_20171010T142506_018752_01FA61_AEEA_Orb_NR_Cal_EC.nc\n",
      "Done sig_S1A_IW_GRDH_1SDV_20171010T142441_20171010T142506_018752_01FA61_AEEA_Orb_NR_Cal_EC.nc\n",
      "Erro arquivo S1A_IW_GRDH_1SDV_20180317T154829_20180317T154854_021057_0242AC_5241_Orb_NR_Cal_EC.nc\n",
      "Done sig_S1A_IW_GRDH_1SDV_20180317T154829_20180317T154854_021057_0242AC_5241_Orb_NR_Cal_EC.nc\n",
      "Erro arquivo S1A_IW_GRDH_1SDV_20180703T154834_20180703T154859_022632_0273B9_1F6A_Orb_NR_Cal_EC.nc\n",
      "Done sig_S1A_IW_GRDH_1SDV_20180703T154834_20180703T154859_022632_0273B9_1F6A_Orb_NR_Cal_EC.nc\n",
      "Erro arquivo S1A_IW_GRDH_1SDV_20180717T171912_20180717T171937_022837_0279ED_E61A_Orb_NR_Cal_EC.nc\n",
      "Done sig_S1A_IW_GRDH_1SDV_20180717T171912_20180717T171937_022837_0279ED_E61A_Orb_NR_Cal_EC.nc\n",
      "Erro arquivo S1A_IW_GRDH_1SDV_20181008T052757_20181008T052822_024040_02A081_CA4D_Orb_NR_Cal_EC.nc\n",
      "Done sig_S1A_IW_GRDH_1SDV_20181008T052757_20181008T052822_024040_02A081_CA4D_Orb_NR_Cal_EC.nc\n",
      "Erro arquivo S1A_IW_GRDH_1SDV_20181009T171427_20181009T171452_024062_02A131_E887_Orb_NR_Cal_EC.nc\n"
     ]
    },
    {
     "ename": "RasterioIOError",
     "evalue": "Free disk space available is 3804557312 bytes, whereas 4930542540 are at least necessary. You can disable this check by defining the CHECK_DISK_FREE_SPACE configuration option to FALSE.",
     "output_type": "error",
     "traceback": [
      "\u001b[0;31m---------------------------------------------------------------------------\u001b[0m",
      "\u001b[0;31mCPLE_FileIOError\u001b[0m                          Traceback (most recent call last)",
      "File \u001b[0;32mrasterio/_io.pyx:1445\u001b[0m, in \u001b[0;36mrasterio._io.DatasetWriterBase.__init__\u001b[0;34m()\u001b[0m\n",
      "File \u001b[0;32mrasterio/_err.pyx:221\u001b[0m, in \u001b[0;36mrasterio._err.exc_wrap_pointer\u001b[0;34m()\u001b[0m\n",
      "\u001b[0;31mCPLE_FileIOError\u001b[0m: Free disk space available is 3804557312 bytes, whereas 4930542540 are at least necessary. You can disable this check by defining the CHECK_DISK_FREE_SPACE configuration option to FALSE.",
      "\nDuring handling of the above exception, another exception occurred:\n",
      "\u001b[0;31mRasterioIOError\u001b[0m                           Traceback (most recent call last)",
      "Input \u001b[0;32mIn [34]\u001b[0m, in \u001b[0;36m<cell line: 3>\u001b[0;34m()\u001b[0m\n\u001b[1;32m     19\u001b[0m     sig\u001b[38;5;241m.\u001b[39mrio\u001b[38;5;241m.\u001b[39mwrite_crs(\u001b[38;5;241m4326\u001b[39m, inplace\u001b[38;5;241m=\u001b[39m\u001b[38;5;28;01mTrue\u001b[39;00m)\n\u001b[1;32m     21\u001b[0m \u001b[38;5;66;03m# Transformando o arquivo com a variavel sigma em raster .tiff\u001b[39;00m\n\u001b[0;32m---> 22\u001b[0m     \u001b[43msig\u001b[49m\u001b[38;5;241;43m.\u001b[39;49m\u001b[43mrio\u001b[49m\u001b[38;5;241;43m.\u001b[39;49m\u001b[43mto_raster\u001b[49m\u001b[43m(\u001b[49m\u001b[38;5;124;43m\"\u001b[39;49m\u001b[38;5;124;43msig_\u001b[39;49m\u001b[38;5;132;43;01m{}\u001b[39;49;00m\u001b[38;5;124;43m.tiff\u001b[39;49m\u001b[38;5;124;43m\"\u001b[39;49m\u001b[38;5;241;43m.\u001b[39;49m\u001b[43mformat\u001b[49m\u001b[43m(\u001b[49m\u001b[43marquivo\u001b[49m\u001b[43m)\u001b[49m\u001b[43m)\u001b[49m    \n\u001b[1;32m     23\u001b[0m     \u001b[38;5;28mprint\u001b[39m(\u001b[38;5;124m'\u001b[39m\u001b[38;5;124mDone sig_\u001b[39m\u001b[38;5;132;01m{}\u001b[39;00m\u001b[38;5;124m'\u001b[39m\u001b[38;5;241m.\u001b[39mformat(arquivo))\n",
      "File \u001b[0;32m/opt/anaconda3/lib/python3.9/site-packages/rioxarray/raster_array.py:1148\u001b[0m, in \u001b[0;36mRasterArray.to_raster\u001b[0;34m(self, raster_path, driver, dtype, tags, windowed, recalc_transform, lock, compute, **profile_kwargs)\u001b[0m\n\u001b[1;32m   1129\u001b[0m out_profile \u001b[38;5;241m=\u001b[39m {\n\u001b[1;32m   1130\u001b[0m     key: value\n\u001b[1;32m   1131\u001b[0m     \u001b[38;5;28;01mfor\u001b[39;00m key, value \u001b[38;5;129;01min\u001b[39;00m out_profile\u001b[38;5;241m.\u001b[39mitems()\n\u001b[0;32m   (...)\u001b[0m\n\u001b[1;32m   1142\u001b[0m     )\n\u001b[1;32m   1143\u001b[0m }\n\u001b[1;32m   1144\u001b[0m rio_nodata \u001b[38;5;241m=\u001b[39m (\n\u001b[1;32m   1145\u001b[0m     \u001b[38;5;28mself\u001b[39m\u001b[38;5;241m.\u001b[39mencoded_nodata \u001b[38;5;28;01mif\u001b[39;00m \u001b[38;5;28mself\u001b[39m\u001b[38;5;241m.\u001b[39mencoded_nodata \u001b[38;5;129;01mis\u001b[39;00m \u001b[38;5;129;01mnot\u001b[39;00m \u001b[38;5;28;01mNone\u001b[39;00m \u001b[38;5;28;01melse\u001b[39;00m \u001b[38;5;28mself\u001b[39m\u001b[38;5;241m.\u001b[39mnodata\n\u001b[1;32m   1146\u001b[0m )\n\u001b[0;32m-> 1148\u001b[0m \u001b[38;5;28;01mreturn\u001b[39;00m \u001b[43mRasterioWriter\u001b[49m\u001b[43m(\u001b[49m\u001b[43mraster_path\u001b[49m\u001b[38;5;241;43m=\u001b[39;49m\u001b[43mraster_path\u001b[49m\u001b[43m)\u001b[49m\u001b[38;5;241;43m.\u001b[39;49m\u001b[43mto_raster\u001b[49m\u001b[43m(\u001b[49m\n\u001b[1;32m   1149\u001b[0m \u001b[43m    \u001b[49m\u001b[43mxarray_dataarray\u001b[49m\u001b[38;5;241;43m=\u001b[39;49m\u001b[38;5;28;43mself\u001b[39;49m\u001b[38;5;241;43m.\u001b[39;49m\u001b[43m_obj\u001b[49m\u001b[43m,\u001b[49m\n\u001b[1;32m   1150\u001b[0m \u001b[43m    \u001b[49m\u001b[43mtags\u001b[49m\u001b[38;5;241;43m=\u001b[39;49m\u001b[43mtags\u001b[49m\u001b[43m,\u001b[49m\n\u001b[1;32m   1151\u001b[0m \u001b[43m    \u001b[49m\u001b[43mdriver\u001b[49m\u001b[38;5;241;43m=\u001b[39;49m\u001b[43mdriver\u001b[49m\u001b[43m,\u001b[49m\n\u001b[1;32m   1152\u001b[0m \u001b[43m    \u001b[49m\u001b[43mheight\u001b[49m\u001b[38;5;241;43m=\u001b[39;49m\u001b[38;5;28;43mint\u001b[39;49m\u001b[43m(\u001b[49m\u001b[38;5;28;43mself\u001b[39;49m\u001b[38;5;241;43m.\u001b[39;49m\u001b[43mheight\u001b[49m\u001b[43m)\u001b[49m\u001b[43m,\u001b[49m\n\u001b[1;32m   1153\u001b[0m \u001b[43m    \u001b[49m\u001b[43mwidth\u001b[49m\u001b[38;5;241;43m=\u001b[39;49m\u001b[38;5;28;43mint\u001b[39;49m\u001b[43m(\u001b[49m\u001b[38;5;28;43mself\u001b[39;49m\u001b[38;5;241;43m.\u001b[39;49m\u001b[43mwidth\u001b[49m\u001b[43m)\u001b[49m\u001b[43m,\u001b[49m\n\u001b[1;32m   1154\u001b[0m \u001b[43m    \u001b[49m\u001b[43mcount\u001b[49m\u001b[38;5;241;43m=\u001b[39;49m\u001b[38;5;28;43mint\u001b[39;49m\u001b[43m(\u001b[49m\u001b[38;5;28;43mself\u001b[39;49m\u001b[38;5;241;43m.\u001b[39;49m\u001b[43mcount\u001b[49m\u001b[43m)\u001b[49m\u001b[43m,\u001b[49m\n\u001b[1;32m   1155\u001b[0m \u001b[43m    \u001b[49m\u001b[43mdtype\u001b[49m\u001b[38;5;241;43m=\u001b[39;49m\u001b[43mdtype\u001b[49m\u001b[43m,\u001b[49m\n\u001b[1;32m   1156\u001b[0m \u001b[43m    \u001b[49m\u001b[43mcrs\u001b[49m\u001b[38;5;241;43m=\u001b[39;49m\u001b[38;5;28;43mself\u001b[39;49m\u001b[38;5;241;43m.\u001b[39;49m\u001b[43mcrs\u001b[49m\u001b[43m,\u001b[49m\n\u001b[1;32m   1157\u001b[0m \u001b[43m    \u001b[49m\u001b[43mtransform\u001b[49m\u001b[38;5;241;43m=\u001b[39;49m\u001b[38;5;28;43mself\u001b[39;49m\u001b[38;5;241;43m.\u001b[39;49m\u001b[43mtransform\u001b[49m\u001b[43m(\u001b[49m\u001b[43mrecalc\u001b[49m\u001b[38;5;241;43m=\u001b[39;49m\u001b[43mrecalc_transform\u001b[49m\u001b[43m)\u001b[49m\u001b[43m,\u001b[49m\n\u001b[1;32m   1158\u001b[0m \u001b[43m    \u001b[49m\u001b[43mgcps\u001b[49m\u001b[38;5;241;43m=\u001b[39;49m\u001b[38;5;28;43mself\u001b[39;49m\u001b[38;5;241;43m.\u001b[39;49m\u001b[43mget_gcps\u001b[49m\u001b[43m(\u001b[49m\u001b[43m)\u001b[49m\u001b[43m,\u001b[49m\n\u001b[1;32m   1159\u001b[0m \u001b[43m    \u001b[49m\u001b[43mnodata\u001b[49m\u001b[38;5;241;43m=\u001b[39;49m\u001b[43mrio_nodata\u001b[49m\u001b[43m,\u001b[49m\n\u001b[1;32m   1160\u001b[0m \u001b[43m    \u001b[49m\u001b[43mwindowed\u001b[49m\u001b[38;5;241;43m=\u001b[39;49m\u001b[43mwindowed\u001b[49m\u001b[43m,\u001b[49m\n\u001b[1;32m   1161\u001b[0m \u001b[43m    \u001b[49m\u001b[43mlock\u001b[49m\u001b[38;5;241;43m=\u001b[39;49m\u001b[43mlock\u001b[49m\u001b[43m,\u001b[49m\n\u001b[1;32m   1162\u001b[0m \u001b[43m    \u001b[49m\u001b[43mcompute\u001b[49m\u001b[38;5;241;43m=\u001b[39;49m\u001b[43mcompute\u001b[49m\u001b[43m,\u001b[49m\n\u001b[1;32m   1163\u001b[0m \u001b[43m    \u001b[49m\u001b[38;5;241;43m*\u001b[39;49m\u001b[38;5;241;43m*\u001b[39;49m\u001b[43mout_profile\u001b[49m\u001b[43m,\u001b[49m\n\u001b[1;32m   1164\u001b[0m \u001b[43m\u001b[49m\u001b[43m)\u001b[49m\n",
      "File \u001b[0;32m/opt/anaconda3/lib/python3.9/site-packages/rioxarray/raster_writer.py:275\u001b[0m, in \u001b[0;36mRasterioWriter.to_raster\u001b[0;34m(self, xarray_dataarray, tags, windowed, lock, compute, **kwargs)\u001b[0m\n\u001b[1;32m    269\u001b[0m \u001b[38;5;28;01mif\u001b[39;00m kwargs[\u001b[38;5;124m\"\u001b[39m\u001b[38;5;124mnodata\u001b[39m\u001b[38;5;124m\"\u001b[39m] \u001b[38;5;129;01mis\u001b[39;00m \u001b[38;5;129;01mnot\u001b[39;00m \u001b[38;5;28;01mNone\u001b[39;00m:\n\u001b[1;32m    270\u001b[0m     \u001b[38;5;66;03m# Ensure dtype of output data matches the expected dtype.\u001b[39;00m\n\u001b[1;32m    271\u001b[0m     \u001b[38;5;66;03m# This check is added here as the dtype of the data is\u001b[39;00m\n\u001b[1;32m    272\u001b[0m     \u001b[38;5;66;03m# converted right before writing.\u001b[39;00m\n\u001b[1;32m    273\u001b[0m     kwargs[\u001b[38;5;124m\"\u001b[39m\u001b[38;5;124mnodata\u001b[39m\u001b[38;5;124m\"\u001b[39m] \u001b[38;5;241m=\u001b[39m _ensure_nodata_dtype(kwargs[\u001b[38;5;124m\"\u001b[39m\u001b[38;5;124mnodata\u001b[39m\u001b[38;5;124m\"\u001b[39m], numpy_dtype)\n\u001b[0;32m--> 275\u001b[0m \u001b[38;5;28;01mwith\u001b[39;00m \u001b[43mrasterio\u001b[49m\u001b[38;5;241;43m.\u001b[39;49m\u001b[43mopen\u001b[49m\u001b[43m(\u001b[49m\u001b[38;5;28;43mself\u001b[39;49m\u001b[38;5;241;43m.\u001b[39;49m\u001b[43mraster_path\u001b[49m\u001b[43m,\u001b[49m\u001b[43m \u001b[49m\u001b[38;5;124;43m\"\u001b[39;49m\u001b[38;5;124;43mw\u001b[39;49m\u001b[38;5;124;43m\"\u001b[39;49m\u001b[43m,\u001b[49m\u001b[43m \u001b[49m\u001b[38;5;241;43m*\u001b[39;49m\u001b[38;5;241;43m*\u001b[39;49m\u001b[43mkwargs\u001b[49m\u001b[43m)\u001b[49m \u001b[38;5;28;01mas\u001b[39;00m rds:\n\u001b[1;32m    276\u001b[0m     _write_metatata_to_raster(rds, xarray_dataarray, tags)\n\u001b[1;32m    277\u001b[0m     \u001b[38;5;28;01mif\u001b[39;00m \u001b[38;5;129;01mnot\u001b[39;00m (lock \u001b[38;5;129;01mand\u001b[39;00m is_dask_collection(xarray_dataarray\u001b[38;5;241m.\u001b[39mdata)):\n\u001b[1;32m    278\u001b[0m         \u001b[38;5;66;03m# write data to raster immmediately if not dask array\u001b[39;00m\n",
      "File \u001b[0;32m/opt/anaconda3/lib/python3.9/site-packages/rasterio/env.py:444\u001b[0m, in \u001b[0;36mensure_env_with_credentials.<locals>.wrapper\u001b[0;34m(*args, **kwds)\u001b[0m\n\u001b[1;32m    441\u001b[0m     session \u001b[38;5;241m=\u001b[39m DummySession()\n\u001b[1;32m    443\u001b[0m \u001b[38;5;28;01mwith\u001b[39;00m env_ctor(session\u001b[38;5;241m=\u001b[39msession):\n\u001b[0;32m--> 444\u001b[0m     \u001b[38;5;28;01mreturn\u001b[39;00m \u001b[43mf\u001b[49m\u001b[43m(\u001b[49m\u001b[38;5;241;43m*\u001b[39;49m\u001b[43margs\u001b[49m\u001b[43m,\u001b[49m\u001b[43m \u001b[49m\u001b[38;5;241;43m*\u001b[39;49m\u001b[38;5;241;43m*\u001b[39;49m\u001b[43mkwds\u001b[49m\u001b[43m)\u001b[49m\n",
      "File \u001b[0;32m/opt/anaconda3/lib/python3.9/site-packages/rasterio/__init__.py:314\u001b[0m, in \u001b[0;36mopen\u001b[0;34m(fp, mode, driver, width, height, count, crs, transform, dtype, nodata, sharing, **kwargs)\u001b[0m\n\u001b[1;32m    312\u001b[0m writer \u001b[38;5;241m=\u001b[39m get_writer_for_driver(driver)\n\u001b[1;32m    313\u001b[0m \u001b[38;5;28;01mif\u001b[39;00m writer \u001b[38;5;129;01mis\u001b[39;00m \u001b[38;5;129;01mnot\u001b[39;00m \u001b[38;5;28;01mNone\u001b[39;00m:\n\u001b[0;32m--> 314\u001b[0m     dataset \u001b[38;5;241m=\u001b[39m \u001b[43mwriter\u001b[49m\u001b[43m(\u001b[49m\n\u001b[1;32m    315\u001b[0m \u001b[43m        \u001b[49m\u001b[43mpath\u001b[49m\u001b[43m,\u001b[49m\n\u001b[1;32m    316\u001b[0m \u001b[43m        \u001b[49m\u001b[43mmode\u001b[49m\u001b[43m,\u001b[49m\n\u001b[1;32m    317\u001b[0m \u001b[43m        \u001b[49m\u001b[43mdriver\u001b[49m\u001b[38;5;241;43m=\u001b[39;49m\u001b[43mdriver\u001b[49m\u001b[43m,\u001b[49m\n\u001b[1;32m    318\u001b[0m \u001b[43m        \u001b[49m\u001b[43mwidth\u001b[49m\u001b[38;5;241;43m=\u001b[39;49m\u001b[43mwidth\u001b[49m\u001b[43m,\u001b[49m\n\u001b[1;32m    319\u001b[0m \u001b[43m        \u001b[49m\u001b[43mheight\u001b[49m\u001b[38;5;241;43m=\u001b[39;49m\u001b[43mheight\u001b[49m\u001b[43m,\u001b[49m\n\u001b[1;32m    320\u001b[0m \u001b[43m        \u001b[49m\u001b[43mcount\u001b[49m\u001b[38;5;241;43m=\u001b[39;49m\u001b[43mcount\u001b[49m\u001b[43m,\u001b[49m\n\u001b[1;32m    321\u001b[0m \u001b[43m        \u001b[49m\u001b[43mcrs\u001b[49m\u001b[38;5;241;43m=\u001b[39;49m\u001b[43mcrs\u001b[49m\u001b[43m,\u001b[49m\n\u001b[1;32m    322\u001b[0m \u001b[43m        \u001b[49m\u001b[43mtransform\u001b[49m\u001b[38;5;241;43m=\u001b[39;49m\u001b[43mtransform\u001b[49m\u001b[43m,\u001b[49m\n\u001b[1;32m    323\u001b[0m \u001b[43m        \u001b[49m\u001b[43mdtype\u001b[49m\u001b[38;5;241;43m=\u001b[39;49m\u001b[43mdtype\u001b[49m\u001b[43m,\u001b[49m\n\u001b[1;32m    324\u001b[0m \u001b[43m        \u001b[49m\u001b[43mnodata\u001b[49m\u001b[38;5;241;43m=\u001b[39;49m\u001b[43mnodata\u001b[49m\u001b[43m,\u001b[49m\n\u001b[1;32m    325\u001b[0m \u001b[43m        \u001b[49m\u001b[43msharing\u001b[49m\u001b[38;5;241;43m=\u001b[39;49m\u001b[43msharing\u001b[49m\u001b[43m,\u001b[49m\n\u001b[1;32m    326\u001b[0m \u001b[43m        \u001b[49m\u001b[38;5;241;43m*\u001b[39;49m\u001b[38;5;241;43m*\u001b[39;49m\u001b[43mkwargs\u001b[49m\n\u001b[1;32m    327\u001b[0m \u001b[43m    \u001b[49m\u001b[43m)\u001b[49m\n\u001b[1;32m    328\u001b[0m \u001b[38;5;28;01melse\u001b[39;00m:\n\u001b[1;32m    329\u001b[0m     \u001b[38;5;28;01mraise\u001b[39;00m DriverCapabilityError(\n\u001b[1;32m    330\u001b[0m         \u001b[38;5;124m\"\u001b[39m\u001b[38;5;124mWriter does not exist for driver: \u001b[39m\u001b[38;5;132;01m%s\u001b[39;00m\u001b[38;5;124m\"\u001b[39m \u001b[38;5;241m%\u001b[39m \u001b[38;5;28mstr\u001b[39m(driver)\n\u001b[1;32m    331\u001b[0m     )\n",
      "File \u001b[0;32mrasterio/_io.pyx:1450\u001b[0m, in \u001b[0;36mrasterio._io.DatasetWriterBase.__init__\u001b[0;34m()\u001b[0m\n",
      "\u001b[0;31mRasterioIOError\u001b[0m: Free disk space available is 3804557312 bytes, whereas 4930542540 are at least necessary. You can disable this check by defining the CHECK_DISK_FREE_SPACE configuration option to FALSE."
     ]
    }
   ],
   "source": [
    "#verificando se o arquivo não apresenta erro\n",
    "\n",
    "for arquivo in nome_arquivos:\n",
    "    try:\n",
    "        ds= xr.open_dataset(nome_arquivos) \n",
    "        print(arquivo)\n",
    "    except:\n",
    "        print('Erro arquivo {}'.format(arquivo))\n",
    "\n",
    "        \n",
    "# Abrindo a variavel Sigma0 de cada arquivo\n",
    "    sig= ds['Sigma0_VV']\n",
    "    lon= ds['lon']\n",
    "    lat= ds['lat']\n",
    "\n",
    "# Referenciando o sistema de coordenadas e projeção \n",
    "    sig= sig.rio.set_spatial_dims(x_dim='lon', y_dim='lat')\n",
    "    sig.rio.crs\n",
    "    sig.rio.write_crs(4326, inplace=True)\n",
    "    \n",
    "# Transformando o arquivo com a variavel sigma em raster .tiff\n",
    "    sig.rio.to_raster(\"sig_{}.tiff\".format(arquivo))    \n",
    "    print('Done sig_{}'.format(arquivo))"
   ]
  }
 ],
 "metadata": {
  "colab": {
   "authorship_tag": "ABX9TyPgPdc49m8oiNgydFvTqVUt",
   "provenance": []
  },
  "kernelspec": {
   "display_name": "Python 3 (ipykernel)",
   "language": "python",
   "name": "python3"
  },
  "language_info": {
   "codemirror_mode": {
    "name": "ipython",
    "version": 3
   },
   "file_extension": ".py",
   "mimetype": "text/x-python",
   "name": "python",
   "nbconvert_exporter": "python",
   "pygments_lexer": "ipython3",
   "version": "3.9.12"
  }
 },
 "nbformat": 4,
 "nbformat_minor": 1
}
